{
 "cells": [
  {
   "cell_type": "markdown",
   "metadata": {},
   "source": [
    "# First Quiz"
   ]
  },
  {
   "cell_type": "markdown",
   "metadata": {},
   "source": [
    "1. A gallon of gasoline carries with it about 1.3E8 Joules of energy. If you pay $5 per gallon, how many megaJoules can you get for a dollar?"
   ]
  },
  {
   "cell_type": "code",
   "execution_count": 1,
   "metadata": {},
   "outputs": [
    {
     "data": {
      "text/plain": [
       "130.0"
      ]
     },
     "execution_count": 1,
     "metadata": {},
     "output_type": "execute_result"
    }
   ],
   "source": [
    "# calculate how many megaJoules are in 1 gallon of gasoline\n",
    "megaJoules=1.3e8/1e6 # this should be 1e6\n",
    "megaJoules"
   ]
  },
  {
   "cell_type": "code",
   "execution_count": 3,
   "metadata": {},
   "outputs": [
    {
     "data": {
      "text/plain": [
       "26.0"
      ]
     },
     "execution_count": 3,
     "metadata": {},
     "output_type": "execute_result"
    }
   ],
   "source": [
    "# so 1 dollar is .2 gallons\n",
    ".2*130\n",
    "# INCORRECT. Recalculate with 1e6"
   ]
  },
  {
   "cell_type": "markdown",
   "metadata": {},
   "source": [
    "2. Electricity goes for about $0.05 per kilowatt hour. A kilowatt hour is just a weird way to write Joules, since a Watt is a Joule per second, and a kilowatt hour is the number of Joules one would get from running 1000 Watts times one hour (3600 seconds). In the form of electricity, how many megaJoules can you get for a dollar?"
   ]
  },
  {
   "cell_type": "code",
   "execution_count": 8,
   "metadata": {},
   "outputs": [
    {
     "data": {
      "text/plain": [
       "5.555555555555555"
      ]
     },
     "execution_count": 8,
     "metadata": {},
     "output_type": "execute_result"
    }
   ],
   "source": [
    "# Electricity costs $0.05 per kilowatt hour = $0.05 per 1000 Joules/3600 seconds\n",
    "# so to get the number of Joules you get for a dollar\n",
    "kH = 1000/3600\n",
    "kH/.05"
   ]
  },
  {
   "cell_type": "code",
   "execution_count": 9,
   "metadata": {},
   "outputs": [
    {
     "data": {
      "text/plain": [
       "0.019799999999999998"
      ]
     },
     "execution_count": 9,
     "metadata": {},
     "output_type": "execute_result"
    }
   ],
   "source": [
    "# You get 20 Joules. Divide by 1e6 to get megaJoules\n",
    "(5.5/1e6)*3600\n",
    "# INCORRECT. Did you remember to convert time units of hours to seconds? (because Joules = Watts * seconds)"
   ]
  },
  {
   "cell_type": "markdown",
   "metadata": {},
   "source": [
    "3. A standard cubic foot of natural gas carries with it about 1.1 x 106 Joules of energy. You can get about 5 x 105 BTU's of gas for a dollar, and there are about 1030 BTU's in a standard cubic foot. How many megaJoules of energy in the form of natural gas can you get for a dollar?"
   ]
  },
  {
   "cell_type": "code",
   "execution_count": 7,
   "metadata": {},
   "outputs": [
    {
     "data": {
      "text/plain": [
       "533.9805825242719"
      ]
     },
     "execution_count": 7,
     "metadata": {},
     "output_type": "execute_result"
    }
   ],
   "source": [
    "# 1 cuft = 1.1 megaJoules of energy\n",
    "# 1 dollar = 5e5 BTU\n",
    "# 1 cuft = 1030 BTU\n",
    "(5e5/1030)*1.1"
   ]
  },
  {
   "cell_type": "markdown",
   "metadata": {},
   "source": [
    "4. A ton of coal holds about 3.2 x 1010 Joules of energy, and costs about $40. How many megaJoules of energy in the form of coal can you get for a dollar?"
   ]
  },
  {
   "cell_type": "code",
   "execution_count": 8,
   "metadata": {},
   "outputs": [
    {
     "data": {
      "text/plain": [
       "32000.0"
      ]
     },
     "execution_count": 8,
     "metadata": {},
     "output_type": "execute_result"
    }
   ],
   "source": [
    "# 1 ton = how many megaJoules?\n",
    "3.2e10/1e6"
   ]
  },
  {
   "cell_type": "code",
   "execution_count": 9,
   "metadata": {},
   "outputs": [
    {
     "data": {
      "text/plain": [
       "800.0"
      ]
     },
     "execution_count": 9,
     "metadata": {},
     "output_type": "execute_result"
    }
   ],
   "source": [
    "# So there are 32,000 megaJoules in 1 ton of coal.\n",
    "# For one dollar, you get 1/40 x 32,000 megaJoules\n",
    "(1/40)*32000"
   ]
  },
  {
   "cell_type": "markdown",
   "metadata": {},
   "source": [
    "5. Corn oil (biodiesel) costs about $0.10 per fluid ounce wholesale. A fluid ounce carries about 240 dietary calories (which a scientist would call kilocalories). A calorie is about 4.2 Joules. How many megaJoules of energy in the form of corn oil can you get for a dollar?"
   ]
  },
  {
   "cell_type": "code",
   "execution_count": 10,
   "metadata": {},
   "outputs": [
    {
     "data": {
      "text/plain": [
       "0.01008"
      ]
     },
     "execution_count": 10,
     "metadata": {},
     "output_type": "execute_result"
    }
   ],
   "source": [
    "# 1 oz = $0.10 = 240 kcal\n",
    "# 1 kcal = 4.2 Joules\n",
    "# 1 dollar = 10*240 kcal*4.2 Joules, divided by 1e6 to get megaJoules\n",
    "(10*240*4.2)/1e6 #INCORRECT"
   ]
  },
  {
   "cell_type": "markdown",
   "metadata": {},
   "source": [
    "5. What is the ratio of the cost of the most expensive form of energy (in dollars per MJ, not MJ per dollar) to the cost of the cheapest form?"
   ]
  },
  {
   "cell_type": "code",
   "execution_count": 12,
   "metadata": {},
   "outputs": [
    {
     "data": {
      "text/plain": [
       "3.846153846153846"
      ]
     },
     "execution_count": 12,
     "metadata": {},
     "output_type": "execute_result"
    }
   ],
   "source": [
    "# gasoline = 0.26/dollar\n",
    "# electricity = 5e-5/dollar\n",
    "# natural gas = 534/dollar\n",
    "# coal = 800/dollar\n",
    "# biodiesel = 0.01/dollar\n",
    "\n",
    "1/.26"
   ]
  },
  {
   "cell_type": "code",
   "execution_count": 14,
   "metadata": {},
   "outputs": [
    {
     "data": {
      "text/plain": [
       "20000.0"
      ]
     },
     "execution_count": 14,
     "metadata": {},
     "output_type": "execute_result"
    }
   ],
   "source": [
    "1/5e-5"
   ]
  },
  {
   "cell_type": "code",
   "execution_count": 15,
   "metadata": {},
   "outputs": [
    {
     "data": {
      "text/plain": [
       "0.0018726591760299626"
      ]
     },
     "execution_count": 15,
     "metadata": {},
     "output_type": "execute_result"
    }
   ],
   "source": [
    "1/534"
   ]
  },
  {
   "cell_type": "code",
   "execution_count": 16,
   "metadata": {},
   "outputs": [
    {
     "data": {
      "text/plain": [
       "0.00125"
      ]
     },
     "execution_count": 16,
     "metadata": {},
     "output_type": "execute_result"
    }
   ],
   "source": [
    "1/800"
   ]
  },
  {
   "cell_type": "code",
   "execution_count": 17,
   "metadata": {},
   "outputs": [
    {
     "data": {
      "text/plain": [
       "100.0"
      ]
     },
     "execution_count": 17,
     "metadata": {},
     "output_type": "execute_result"
    }
   ],
   "source": [
    "1/.01"
   ]
  },
  {
   "cell_type": "code",
   "execution_count": null,
   "metadata": {},
   "outputs": [],
   "source": []
  }
 ],
 "metadata": {
  "kernelspec": {
   "display_name": "Python 3",
   "language": "python",
   "name": "python3"
  },
  "language_info": {
   "codemirror_mode": {
    "name": "ipython",
    "version": 3
   },
   "file_extension": ".py",
   "mimetype": "text/x-python",
   "name": "python",
   "nbconvert_exporter": "python",
   "pygments_lexer": "ipython3",
   "version": "3.7.4"
  }
 },
 "nbformat": 4,
 "nbformat_minor": 4
}
